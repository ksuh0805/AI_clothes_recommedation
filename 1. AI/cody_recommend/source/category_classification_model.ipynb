{
 "cells": [
  {
   "cell_type": "code",
   "execution_count": 2,
   "id": "801a0369",
   "metadata": {},
   "outputs": [
    {
     "name": "stdout",
     "output_type": "stream",
     "text": [
      "[0.05, 0.0, 0.0, 0.02, 0.0, 0.0, 0.05, 0.5, 0.0, 0.01, 0.02, 0.0, 0.04, 0.24, 0.01, 0.03, 0.03]\n",
      "[[0.   0.   0.   0.   0.   0.   0.01 0.01 0.02 0.02 0.03 0.03 0.04 0.05\n",
      "  0.05 0.24 0.5 ]]\n",
      "short_tee/short_chino 0.5\n",
      "short_tee/long_skirt 0.24\n",
      "long_blouse/long_chino 0.05\n"
     ]
    }
   ],
   "source": [
    "#9조 뭐입지니 모델링 팀원 김형우 produce\n",
    "#category_classification_model.py:\n",
    "#학습된 모델을 활용해 사용자의 데이터를 기반으로\n",
    "#최대 3순위까지의 추천 코디와 추천도를 반환한다.\n",
    "\n",
    "#필요 라이브러리 import\n",
    "import joblib\n",
    "import pandas as pd\n",
    "import numpy as np\n",
    "\n",
    "#피처들의 값 도메인\n",
    "category = [\"long_blouse/long_chino\",\"short_tee/short_skirt\",\"long_sports/sweats\",\"short_sports/leggings\",\n",
    "       \"short_shirt/long_chino\",\"long_shirt/long_chino\",\"short_blouse/long_chino\",\"short_tee/short_chino\",\n",
    "       \"long_sports/leggings\",\"short_sports/sweats\",\"long_tee/long_denim\",\"long_tee/long_skirt\",\n",
    "       \"short_tee/long_denim\",\"short_tee/long_skirt\",\n",
    "        \"short_tee/long_chino\",\"long_tee/long_chino\",\"short_tee/short_denim\"]#추가 부분\n",
    "weatherCa = [\"sunny\",\"cloudy\",\"rainy\"]\n",
    "styleCa = [\"business\",\"casual\",\"sports\"]\n",
    "sexCa = [\"male\",\"female\"]\n",
    "boShapeCa = [\"thin\",\"normal\",\"fat\"]\n",
    "\n",
    "#load할 모델 경로 지정\n",
    "model_route = 'rfr_model_lnhw.pkl'\n",
    "\n",
    "\n",
    "#옷 카테고리 코디 추천 function\n",
    "#사용자로부터 8개의 feature 값들을 전달 받는다.\n",
    "def recommend2(loaded_model,temp,weather,age,sex,height,weight,body_shape,style):\n",
    "     #텍스트 값의 index mapping\n",
    "    x=[[temp,weatherCa.index(weather)+1,age,sexCa.index(sex)+1,height,weight,boShapeCa.index(body_shape)+1,styleCa.index(style)+1]]\n",
    "    #분류되는 각 클래스마다의 예측 확률을 측정한다.\n",
    "    yp = loaded_model.predict_proba(x)\n",
    "    tp = list(loaded_model.predict_proba(x)[0])\n",
    "    #예측 확률 정렬\n",
    "    yp.sort()\n",
    "    result=[]\n",
    "    #최대 예측 확률 값의 클래스와 확률 값을 저장하여 반환한다.\n",
    "    #확률값을 가지고 tp에서 찾은 index 값으로 category 리스트에서 맞는 코디 저장\n",
    "    for i in yp[0][::-1]:\n",
    "        if i == 0:\n",
    "            break\n",
    "        result.append(category[tp.index(i)])\n",
    "        result.append(i)\n",
    "    return result"
   ]
  },
  {
   "cell_type": "code",
   "execution_count": null,
   "id": "51a1130d",
   "metadata": {},
   "outputs": [],
   "source": []
  },
  {
   "cell_type": "code",
   "execution_count": null,
   "id": "744f29a1",
   "metadata": {},
   "outputs": [],
   "source": []
  }
 ],
 "metadata": {
  "kernelspec": {
   "display_name": "Python 3",
   "language": "python",
   "name": "python3"
  },
  "language_info": {
   "codemirror_mode": {
    "name": "ipython",
    "version": 3
   },
   "file_extension": ".py",
   "mimetype": "text/x-python",
   "name": "python",
   "nbconvert_exporter": "python",
   "pygments_lexer": "ipython3",
   "version": "3.8.8"
  }
 },
 "nbformat": 4,
 "nbformat_minor": 5
}
