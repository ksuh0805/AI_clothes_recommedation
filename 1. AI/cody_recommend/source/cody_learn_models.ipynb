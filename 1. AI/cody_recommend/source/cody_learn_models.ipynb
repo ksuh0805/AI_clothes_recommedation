{
 "cells": [
  {
   "cell_type": "code",
   "execution_count": 11,
   "id": "37607fb8",
   "metadata": {},
   "outputs": [],
   "source": [
    "#9조 뭐입지니 모델링 팀원 김형우 produce\n",
    "#category_classification_model.py:\n",
    "#학습된 모델을 활용해 사용자의 데이터를 기반으로\n",
    "#최대 3순위까지의 추천 코디와 추천도를 반환한다.\n",
    "\n",
    "import pandas as pd\n",
    "import numpy as np\n",
    "import joblib\n",
    "\n",
    "#학습에 활용될 X, Y 값을 불러온다.\n",
    "df_feature = pd.read_csv(\"data_x.csv\",sep=',')\n",
    "df_target = pd.read_csv(\"data_y.csv\",sep=',')"
   ]
  },
  {
   "cell_type": "code",
   "execution_count": 12,
   "id": "3573aa04",
   "metadata": {},
   "outputs": [],
   "source": [
    "from sklearn.model_selection import train_test_split\n",
    "#학습할 data와 테스트할 dat를 분리한다. (8:2)비율\n",
    "train_x,test_x,train_y,test_y = train_test_split(df_feature,df_target,test_size=0.05)"
   ]
  },
  {
   "cell_type": "code",
   "execution_count": 1,
   "id": "35247729",
   "metadata": {},
   "outputs": [
    {
     "ename": "NameError",
     "evalue": "name 'train_x' is not defined",
     "output_type": "error",
     "traceback": [
      "\u001b[1;31m---------------------------------------------------------------------------\u001b[0m",
      "\u001b[1;31mNameError\u001b[0m                                 Traceback (most recent call last)",
      "\u001b[1;32m<ipython-input-1-5e838e7a3478>\u001b[0m in \u001b[0;36m<module>\u001b[1;34m\u001b[0m\n\u001b[0;32m      4\u001b[0m \u001b[1;33m\u001b[0m\u001b[0m\n\u001b[0;32m      5\u001b[0m \u001b[0mmodel\u001b[0m \u001b[1;33m=\u001b[0m \u001b[0mlr\u001b[0m\u001b[1;33m(\u001b[0m\u001b[1;33m)\u001b[0m\u001b[1;33m\u001b[0m\u001b[1;33m\u001b[0m\u001b[0m\n\u001b[1;32m----> 6\u001b[1;33m \u001b[0mmodel\u001b[0m\u001b[1;33m.\u001b[0m\u001b[0mfit\u001b[0m\u001b[1;33m(\u001b[0m\u001b[0mtrain_x\u001b[0m\u001b[1;33m,\u001b[0m\u001b[0mtrain_y\u001b[0m\u001b[1;33m)\u001b[0m\u001b[1;33m\u001b[0m\u001b[1;33m\u001b[0m\u001b[0m\n\u001b[0m\u001b[0;32m      7\u001b[0m \u001b[0mprint\u001b[0m\u001b[1;33m(\u001b[0m\u001b[1;34m\"모델의 회귀 계수는: \"\u001b[0m\u001b[1;33m,\u001b[0m\u001b[0mmodel\u001b[0m\u001b[1;33m.\u001b[0m\u001b[0mcoef_\u001b[0m\u001b[1;33m,\u001b[0m\u001b[1;34m\"이고 모델의 절편은 : \"\u001b[0m\u001b[1;33m,\u001b[0m\u001b[0mmodel\u001b[0m\u001b[1;33m.\u001b[0m\u001b[0mintercept_\u001b[0m\u001b[1;33m)\u001b[0m\u001b[1;33m\u001b[0m\u001b[1;33m\u001b[0m\u001b[0m\n\u001b[0;32m      8\u001b[0m \u001b[0mpred_y\u001b[0m \u001b[1;33m=\u001b[0m \u001b[0mmodel\u001b[0m\u001b[1;33m.\u001b[0m\u001b[0mpredict\u001b[0m\u001b[1;33m(\u001b[0m\u001b[0mtest_x\u001b[0m\u001b[1;33m)\u001b[0m\u001b[1;33m\u001b[0m\u001b[1;33m\u001b[0m\u001b[0m\n",
      "\u001b[1;31mNameError\u001b[0m: name 'train_x' is not defined"
     ]
    }
   ],
   "source": [
    "#선형 회귀 진행\n",
    "from sklearn.linear_model import LinearRegression as lr\n",
    "from sklearn.metrics import roc_auc_score,accuracy_score,mean_squared_error,r2_score\n",
    "\n",
    "model = lr()\n",
    "model.fit(train_x,train_y)\n",
    "print(\"모델의 회귀 계수는: \",model.coef_,\"이고 모델의 절편은 : \",model.intercept_)\n",
    "pred_y = model.predict(test_x)\n",
    "print(\"RMSE on Test Set : {0:.5f}\".format(mean_squared_error(test_y,pred_y)**0.5))\n",
    "print(\"R-squared Score on Test set : {0:.5f}\".format(r2_score(test_y,pred_y)))"
   ]
  },
  {
   "cell_type": "code",
   "execution_count": 14,
   "id": "f574781d",
   "metadata": {},
   "outputs": [
    {
     "name": "stdout",
     "output_type": "stream",
     "text": [
      "[6.2519359]\n",
      "(4955, 8)\n",
      "(1,)\n"
     ]
    },
    {
     "data": {
      "text/plain": [
       "['./learnModel/rfr_model_hw.pkl']"
      ]
     },
     "execution_count": 14,
     "metadata": {},
     "output_type": "execute_result"
    }
   ],
   "source": [
    "#랜덤포래스트 regressor 진행\n",
    "from sklearn.ensemble import RandomForestRegressor as rfr\n",
    "import joblib\n",
    "#다차원 배열 1차원으로 변환\n",
    "train_y = np.ravel(train_y,order='C')\n",
    "model = rfr(n_estimators=100,max_depth=5,min_samples_split=30,min_samples_leaf=15)\n",
    "model.fit(train_x,train_y)\n",
    "\n",
    "\n",
    "y = model.predict(tx)\n",
    "\n",
    "pred_y = model.predict(train_x)\n",
    "print(\"RMSE on Test Set : {0:.5f}\".format(mean_squared_error(train_y,pred_y)**0.5))\n",
    "print(\"R-squared Score on Test set : {0:.5f}\".format(r2_score(train_y,pred_y)))"
   ]
  },
  {
   "cell_type": "code",
   "execution_count": 16,
   "id": "d8350453",
   "metadata": {
    "scrolled": false
   },
   "outputs": [
    {
     "name": "stdout",
     "output_type": "stream",
     "text": [
      "훈련 세트 정확도: 1.00000\n",
      "테스트 세트 정확도: 1.00000\n",
      "OOB 샘플의 정확도: 0.73098\n",
      "[3]\n",
      "랜덤 포레스트 정확도: 0.0000\n",
      "랜덤 포레스트 정확도: 0.0000\n",
      "랜덤 포레스트 정확도: 0.8000\n",
      "랜덤 포레스트 정확도: 0.0100\n",
      "랜덤 포레스트 정확도: 0.0000\n",
      "랜덤 포레스트 정확도: 0.0400\n",
      "랜덤 포레스트 정확도: 0.0000\n",
      "랜덤 포레스트 정확도: 0.0000\n",
      "랜덤 포레스트 정확도: 0.0400\n",
      "랜덤 포레스트 정확도: 0.0300\n",
      "랜덤 포레스트 정확도: 0.0400\n",
      "랜덤 포레스트 정확도: 0.0000\n",
      "랜덤 포레스트 정확도: 0.0000\n",
      "랜덤 포레스트 정확도: 0.0000\n"
     ]
    },
    {
     "data": {
      "text/plain": [
       "['./learnModel/test2.pkl']"
      ]
     },
     "execution_count": 16,
     "metadata": {},
     "output_type": "execute_result"
    }
   ],
   "source": [
    "#랜덤 포래스트 분류 진행 --> 실제 코디 추천 적용 모델\n",
    "from sklearn.ensemble import RandomForestClassifier\n",
    "from sklearn.datasets import make_classification\n",
    "\n",
    "#별도의 하이퍼 파라미팅은 진행하지 않음\n",
    "clf = RandomForestClassifier(oob_score=True)\n",
    "clf.fit(train_x, train_y)\n",
    "\n",
    "predicted = clf.predict(test_x)\n",
    "accuracy = accuracy_score(test_y, predicted)\n",
    "\n",
    "print(\"훈련 세트 정확도: {:.5f}\".format(clf.score(train_x, train_y)) )\n",
    "print(\"테스트 세트 정확도: {:.5f}\".format(clf.score(test_x, test_y)) )\n",
    "print(\"OOB 샘플의 정확도: {:.5f}\".format(clf.oob_score_) )\n",
    "\n",
    "#학습된 모델 저장\n",
    "yp = clf.predict_proba(tx)\n",
    "joblib.dump(clf,'./learnModel/model_cody.pkl')"
   ]
  },
  {
   "cell_type": "code",
   "execution_count": 7,
   "id": "71f9e1a8",
   "metadata": {
    "scrolled": true
   },
   "outputs": [
    {
     "name": "stderr",
     "output_type": "stream",
     "text": [
      "findfont: Font family ['NanumGothicCoding'] not found. Falling back to DejaVu Sans.\n",
      "findfont: Font family ['NanumGothicCoding'] not found. Falling back to DejaVu Sans.\n"
     ]
    },
    {
     "data": {
      "image/png": "[encoded data removed]",
      "text/plain": [
       "<Figure size 576x432 with 1 Axes>"
      ]
     },
     "metadata": {
      "needs_background": "light"
     },
     "output_type": "display_data"
    }
   ],
   "source": [
    "#영향을 주는 feature 시각화\n",
    "import matplotlib.pyplot as plt\n",
    "import seaborn as sns\n",
    "\n",
    "rf_importances_values = model.feature_importances_\n",
    "rf_importances = pd.Series(rf_importances_values,index=train_x.columns)\n",
    "rf_top10 = rf_importances.sort_values(ascending=False)[:10]\n",
    "\n",
    "plt.rcParams[\"font.family\"] = 'NanumGothicCoding'\n",
    "plt.figure(figsize=(8,6))\n",
    "plt.title('Top10 Feature Importances , rf model')\n",
    "sns.barplot(x=rf_top10,y=rf_top10.index,palette=\"RdBu\")\n",
    "plt.show()"
   ]
  },
  {
   "cell_type": "code",
   "execution_count": 8,
   "id": "c3a2c9af",
   "metadata": {},
   "outputs": [
    {
     "name": "stdout",
     "output_type": "stream",
     "text": [
      "[5.919504]\n",
      "RMSE on Test Set : 0.07649\n",
      "R-squared Score on Test set : nan\n"
     ]
    },
    {
     "name": "stderr",
     "output_type": "stream",
     "text": [
      "C:\\Users\\82105\\anaconda3\\lib\\site-packages\\sklearn\\metrics\\_regression.py:682: UndefinedMetricWarning: R^2 score is not well-defined with less than two samples.\n",
      "  warnings.warn(msg, UndefinedMetricWarning)\n"
     ]
    }
   ],
   "source": [
    "#그래디언트 부스팅 Regressor 진행\n",
    "from sklearn.ensemble import GradientBoostingRegressor as grb\n",
    "\n",
    "model = grb(n_estimators=100,learning_rate=0.1,max_depth=5,min_samples_split=30,min_samples_leaf=15)\n",
    "model.fit(train_x,train_y)\n",
    "\n",
    "y = model.predict(tx)\n",
    "\n",
    "pred_y = model.predict(test_x)\n",
    "print(\"RMSE on Test Set : {0:.5f}\".format(mean_squared_error(test_y,pred_y)**0.5))\n",
    "print(\"R-squared Score on Test set : {0:.5f}\".format(r2_score(test_y,pred_y)))"
   ]
  },
  {
   "cell_type": "code",
   "execution_count": 9,
   "id": "d1cea38b",
   "metadata": {},
   "outputs": [
    {
     "data": {
      "image/png": "[encoded data removed]",
      "text/plain": [
       "<Figure size 576x432 with 1 Axes>"
      ]
     },
     "metadata": {
      "needs_background": "light"
     },
     "output_type": "display_data"
    }
   ],
   "source": [
    "#영향을 주는 feature 시각화\n",
    "grb_importances_values = model.feature_importances_\n",
    "grb_importances = pd.Series(grb_importances_values,index=train_x.columns)\n",
    "grb_top10 = grb_importances.sort_values(ascending=False)[:10]\n",
    "\n",
    "plt.rcParams[\"font.family\"] = 'NanumGothicCoding'\n",
    "plt.figure(figsize=(8,6))\n",
    "plt.title('Top10 Feature Importances ,grb model')\n",
    "sns.barplot(x=grb_top10,y=grb_top10.index,palette=\"RdBu\")\n",
    "plt.show()"
   ]
  },
  {
   "cell_type": "code",
   "execution_count": 227,
   "id": "adc7dfe1",
   "metadata": {},
   "outputs": [
    {
     "name": "stdout",
     "output_type": "stream",
     "text": [
      "RMSE on Test Set : 0.23970\n",
      "R-squared Score on Test set : 0.99449\n"
     ]
    }
   ],
   "source": [
    "#XG부스트 Regressor 진행\n",
    "from xgboost import XGBRegressor as xgb\n",
    "\n",
    "model = xgb(n_estimators=100,gamma=1,eta=0.1,max_depth=5,reg_lambda=5,reg_alpha=5)\n",
    "model.fit(train_x,train_y)\n",
    "\n",
    "pred_y = model.predict(test_x)\n",
    "print(\"RMSE on Test Set : {0:.5f}\".format(mean_squared_error(test_y,pred_y)**0.5))\n",
    "print(\"R-squared Score on Test set : {0:.5f}\".format(r2_score(test_y,pred_y)))"
   ]
  },
  {
   "cell_type": "code",
   "execution_count": 228,
   "id": "67abc80b",
   "metadata": {},
   "outputs": [
    {
     "data": {
      "image/png": "[encoded data removed]",
      "text/plain": [
       "<Figure size 576x432 with 1 Axes>"
      ]
     },
     "metadata": {
      "needs_background": "light"
     },
     "output_type": "display_data"
    }
   ],
   "source": [
    "#영향을 주는 feature 시각화\n",
    "xgb_importances_values = model.feature_importances_\n",
    "xgb_importances = pd.Series(xgb_importances_values,index=train_x.columns)\n",
    "xgb_top10 = xgb_importances.sort_values(ascending=False)[:10]\n",
    "\n",
    "plt.rcParams[\"font.family\"] = 'NanumGothicCoding'\n",
    "plt.figure(figsize=(8,6))\n",
    "plt.title('Top10 Feature Importances ,xgb model')\n",
    "sns.barplot(x=xgb_top10,y=xgb_top10.index,palette=\"RdBu\")\n",
    "plt.show()"
   ]
  },
  {
   "cell_type": "code",
   "execution_count": 229,
   "id": "5cdb44e1",
   "metadata": {},
   "outputs": [
    {
     "name": "stdout",
     "output_type": "stream",
     "text": [
      "*LinearRegression() 결과 시작\n",
      "--- {0:.5f}sec, training coplete --- 0.0\n",
      "RMSE on Test Set : 3.08196\n",
      "R-squared Score on Test set : 0.08971\n",
      "---------------------------------------------------------------------------\n",
      "*RandomForestRegressor() 결과 시작\n",
      "--- {0:.5f}sec, training coplete --- 0.875\n",
      "RMSE on Test Set : 0.16747\n",
      "R-squared Score on Test set : 0.99731\n",
      "---------------------------------------------------------------------------\n",
      "*GradientBoostingRegressor() 결과 시작\n",
      "--- {0:.5f}sec, training coplete --- 0.1875\n",
      "RMSE on Test Set : 1.05604\n",
      "R-squared Score on Test set : 0.89312\n",
      "---------------------------------------------------------------------------\n",
      "*XGBRegressor(base_score=0.5, booster='gbtree', colsample_bylevel=1,\n",
      "             colsample_bynode=1, colsample_bytree=1, gamma=0, gpu_id=-1,\n",
      "             importance_type='gain', interaction_constraints='',\n",
      "             learning_rate=0.300000012, max_delta_step=0, max_depth=6,\n",
      "             min_child_weight=1, missing=nan, monotone_constraints='()',\n",
      "             n_estimators=100, n_jobs=8, num_parallel_tree=1, random_state=0,\n",
      "             reg_alpha=0, reg_lambda=1, scale_pos_weight=1, subsample=1,\n",
      "             tree_method='exact', validate_parameters=1, verbosity=None) 결과 시작\n",
      "--- {0:.5f}sec, training coplete --- 1.46875\n",
      "RMSE on Test Set : 0.23462\n",
      "R-squared Score on Test set : 0.99472\n",
      "---------------------------------------------------------------------------\n"
     ]
    }
   ],
   "source": [
    "#모델들의 훈련 시간과 정확도들을 출력하며 가장 적합한 모델 판별\n",
    "import pickle\n",
    "import joblib\n",
    "import time\n",
    "model_list=[lr(),rfr(),grb(),xgb()]\n",
    "model_rslt = []\n",
    "for i in range(len(model_list)):\n",
    "    start_time = time.process_time()\n",
    "    model = model_list[i]\n",
    "    model.fit(train_x,train_y)\n",
    "    end_time = time.process_time()\n",
    "    joblib.dump(model,'{}_model.pkl'.format(i)) #모델 저장, sklearn을 통해서 만들어진 모델은 pkl 파일로 저장\n",
    "    print(f\"*{model} 결과 시작\")\n",
    "    print(\"--- {0:.5f}sec, training coplete ---\",format(end_time-start_time))\n",
    "    pred_y = model.predict(test_x)\n",
    "    model_rslt.append(model)\n",
    "    print(\"RMSE on Test Set : {0:.5f}\".format(mean_squared_error(test_y,pred_y)**0.5))\n",
    "    print(\"R-squared Score on Test set : {0:.5f}\".format(r2_score(test_y,pred_y)))\n",
    "    print(\"---------------------------------------------------------------------------\")"
   ]
  },
  {
   "cell_type": "code",
   "execution_count": null,
   "id": "7073a131",
   "metadata": {},
   "outputs": [],
   "source": []
  },
  {
   "cell_type": "code",
   "execution_count": null,
   "id": "6de7e8b6",
   "metadata": {},
   "outputs": [],
   "source": []
  },
  {
   "cell_type": "code",
   "execution_count": null,
   "id": "63a66b5e",
   "metadata": {},
   "outputs": [],
   "source": []
  }
 ],
 "metadata": {
  "kernelspec": {
   "display_name": "Python 3",
   "language": "python",
   "name": "python3"
  },
  "language_info": {
   "codemirror_mode": {
    "name": "ipython",
    "version": 3
   },
   "file_extension": ".py",
   "mimetype": "text/x-python",
   "name": "python",
   "nbconvert_exporter": "python",
   "pygments_lexer": "ipython3",
   "version": "3.8.8"
  }
 },
 "nbformat": 4,
 "nbformat_minor": 5
}
